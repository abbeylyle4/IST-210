{
  "nbformat": 4,
  "nbformat_minor": 0,
  "metadata": {
    "colab": {
      "name": "firstday.ipynb",
      "provenance": [],
      "authorship_tag": "ABX9TyMa/DCb1HJtFQneR1NaQ63S",
      "include_colab_link": true
    },
    "kernelspec": {
      "name": "python3",
      "display_name": "Python 3"
    }
  },
  "cells": [
    {
      "cell_type": "markdown",
      "metadata": {
        "id": "view-in-github",
        "colab_type": "text"
      },
      "source": [
        "<a href=\"https://colab.research.google.com/github/abbeylyle4/IST-210/blob/master/Introduction/firstday.ipynb\" target=\"_parent\"><img src=\"https://colab.research.google.com/assets/colab-badge.svg\" alt=\"Open In Colab\"/></a>"
      ]
    },
    {
      "cell_type": "code",
      "metadata": {
        "id": "FbI9rD4Qy5WX",
        "colab_type": "code",
        "colab": {
          "base_uri": "https://localhost:8080/",
          "height": 34
        },
        "outputId": "d7d47e3f-9996-44fe-d2a1-52ca40779faa"
      },
      "source": [
        "2+2"
      ],
      "execution_count": 4,
      "outputs": [
        {
          "output_type": "execute_result",
          "data": {
            "text/plain": [
              "4"
            ]
          },
          "metadata": {
            "tags": []
          },
          "execution_count": 4
        }
      ]
    },
    {
      "cell_type": "code",
      "metadata": {
        "id": "yAxnstAMzm0W",
        "colab_type": "code",
        "colab": {
          "base_uri": "https://localhost:8080/",
          "height": 34
        },
        "outputId": "0088815e-3d96-407f-d2ec-e356f190889b"
      },
      "source": [
        "2+3"
      ],
      "execution_count": 5,
      "outputs": [
        {
          "output_type": "execute_result",
          "data": {
            "text/plain": [
              "5"
            ]
          },
          "metadata": {
            "tags": []
          },
          "execution_count": 5
        }
      ]
    },
    {
      "cell_type": "markdown",
      "metadata": {
        "id": "vI5wG4dPzzuC",
        "colab_type": "text"
      },
      "source": [
        "This is my first notebook!"
      ]
    },
    {
      "cell_type": "markdown",
      "metadata": {
        "id": "AzIn3o4d0JRx",
        "colab_type": "text"
      },
      "source": [
        "this is **bold**"
      ]
    },
    {
      "cell_type": "markdown",
      "metadata": {
        "id": "cbY87baj0eL3",
        "colab_type": "text"
      },
      "source": [
        "# this is a header\n",
        "## this is header 2\n",
        "### this is header 3"
      ]
    },
    {
      "cell_type": "markdown",
      "metadata": {
        "id": "W8At8ZyG0uXl",
        "colab_type": "text"
      },
      "source": [
        "![alt text](https://raw.githubusercontent.com/abbeylyle4/IST-210/master/Introduction/download.jpeg)"
      ]
    }
  ]
}