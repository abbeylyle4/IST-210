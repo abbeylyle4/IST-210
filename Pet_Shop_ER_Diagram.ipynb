{
  "nbformat": 4,
  "nbformat_minor": 0,
  "metadata": {
    "colab": {
      "name": "Pet Shop ER Diagram.ipynb",
      "provenance": [],
      "collapsed_sections": [],
      "authorship_tag": "ABX9TyOSBeu3HuFt4xN6Mu96fMLm",
      "include_colab_link": true
    },
    "kernelspec": {
      "name": "python3",
      "display_name": "Python 3"
    }
  },
  "cells": [
    {
      "cell_type": "markdown",
      "metadata": {
        "id": "view-in-github",
        "colab_type": "text"
      },
      "source": [
        "<a href=\"https://colab.research.google.com/github/abbeylyle4/IST-210/blob/master/Pet_Shop_ER_Diagram.ipynb\" target=\"_parent\"><img src=\"https://colab.research.google.com/assets/colab-badge.svg\" alt=\"Open In Colab\"/></a>"
      ]
    },
    {
      "cell_type": "markdown",
      "metadata": {
        "colab_type": "text",
        "id": "gaIm93FZ0a4u"
      },
      "source": [
        "###Lab 2 Pet Shop ER Diagram###\n",
        "Abbey Lyle\n",
        "\n",
        "\n",
        "While working at the Pet Shop, having a database to organize all of the inventory and transactions will aid the Pet Shop in being efficient and accurate. I chose to organize the given data into six tables including: Customer, TransactionPet, TransactionFood, Pets, Food, and Enclosures. By organizing the data in these tables, it is more user friendly to track each transaction made by customers and the effect it has on the food, pets, and enclosures. \n",
        "\n",
        "In the customer table, I chose the primary key to be the loyalty ID for each customer. This value serves as a unique identifier for each customer in the Pet Shop. Following the primary key, I have following attributes such as FName, LName, and phone number to further describe the customer. The customer table is linked to both of the transaction tables through the loyalty ID.\n",
        "\n",
        "In both the TransactionPet, and TransactionFood tables, the loyalty ID acts as a foreign key, which links them to the customer table. The TransactionPet table is linked to the Pets table through the PetID with a one to many relationship. Some the attributes in the TransactionPet table are PaymentType, PetID, and loyalty ID. A similar one to many relationship also occurrs in the TransactionFood table to the Food table with SKU number being the foreign key. Some of the attributes that describe the TransactionFood entity are PaymentType, Date, and SKU.\n",
        "\n",
        "In addition to this, the Food and Pet table are actually linked together as well, through a many to many relationship linked by \"Animal\" being a foreign key. Some of the attributes in the Food table include Animal, Brand, and Price; while the Pet table includes Animal, Breed, and Price. The Pet table is then linked to the Enclosure table by the PetID being the foreign key in the Enclosure table through a one to many relationship. Some of the attributes in the Enclosure table include PetID, Type, and Size\n",
        "\n",
        "I chose to format the tables in a horizontal, linear order so that it is less strenuous for the user to find the relationships between the products and transactions.\n",
        "\n",
        "![alt text](https://raw.githubusercontent.com/abbeylyle4/IST-210/master/Pet%20Shop%20ER%20Diagram.png)"
      ]
    }
  ]
}