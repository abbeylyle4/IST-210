{
  "nbformat": 4,
  "nbformat_minor": 0,
  "metadata": {
    "colab": {
      "name": "First Notebook.ipynb",
      "provenance": [],
      "authorship_tag": "ABX9TyM9INLmRbBimz6Vjw97J899",
      "include_colab_link": true
    },
    "kernelspec": {
      "name": "python3",
      "display_name": "Python 3"
    }
  },
  "cells": [
    {
      "cell_type": "markdown",
      "metadata": {
        "id": "view-in-github",
        "colab_type": "text"
      },
      "source": [
        "<a href=\"https://colab.research.google.com/github/abbeylyle4/IST-210/blob/master/First%20Notebook/First_Notebook.ipynb\" target=\"_parent\"><img src=\"https://colab.research.google.com/assets/colab-badge.svg\" alt=\"Open In Colab\"/></a>"
      ]
    },
    {
      "cell_type": "markdown",
      "metadata": {
        "id": "KFzEHTpOEnFy",
        "colab_type": "text"
      },
      "source": [
        "#Abbey Lyle#"
      ]
    },
    {
      "cell_type": "markdown",
      "metadata": {
        "id": "Qb-ohssJFWIE",
        "colab_type": "text"
      },
      "source": [
        "##IST Related Interests##\n",
        "In the IST field, I am interested in Data Management and organization. I have not had a ton of experience in this field yet, but I am excited to learn more about SQL"
      ]
    },
    {
      "cell_type": "markdown",
      "metadata": {
        "id": "KHtV9hHOGDeV",
        "colab_type": "text"
      },
      "source": [
        "##Future Job/Career##\n",
        "In the future, I hope to persue a career in the IT Consulting field, or Project Management."
      ]
    },
    {
      "cell_type": "markdown",
      "metadata": {
        "id": "Qjqtbcb9GjXu",
        "colab_type": "text"
      },
      "source": [
        "![alt text](https://raw.githubusercontent.com/abbeylyle4/IST-210/master/0.jpeg)"
      ]
    }
  ]
}